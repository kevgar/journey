{
 "cells": [
  {
   "cell_type": "markdown",
   "metadata": {},
   "source": [
    "## Setting up a Hive database on an Amazon EMR Cluster"
   ]
  },
  {
   "cell_type": "markdown",
   "metadata": {},
   "source": [
    "### (1) Setup the development environmnet\n",
    "\n",
    "First we manually download the data from [here](https://www.kaggle.com/frtgnn/dunnhumby-the-complete-journey). The download consists of 8 csv files in a folder, which we save as a zip archive to make uploading to/downloading from S3 much faster.\n",
    "\n",
    "We use an AWS Cloud9 environment to perform the following steps. A suitable enviromnent can be created from your AWS account by clicking on **Services** > **Cloud9** > **Create Environment**, then selecting the default configurations. Once the environment is created click to open the IDE. Using the IDE, you can upload the zip folder into the home directory by clicking on **File** > **Upload Local Files** and selecting the file."
   ]
  },
  {
   "cell_type": "markdown",
   "metadata": {},
   "source": [
    "### (2) Create an S3 bucket to stage the data\n",
    "\n",
    "Next we create an S3 bucket and copy the data into it from our Cloud9 environment. We also create a logs folder for storing outputs."
   ]
  },
  {
   "cell_type": "raw",
   "metadata": {},
   "source": [
    "aws s3 api create-bucket --bucket kjgardner74-hive --region us-east-1\n",
    "aws s3 cp 408408-782411-bundle-archive.zip s3://kjgardner74-hive/408408-782411-bundle-archive.zip\n",
    "aws s3 api put-object --bucket kjgardner74-hive --key logs/"
   ]
  },
  {
   "cell_type": "markdown",
   "metadata": {},
   "source": [
    "### (3) Clone repo and sync scripts to s3 bucket\n",
    "\n",
    "We also create a folder in our S3 bucket for scripts. This will be useful later if we want to execute SQL scripts on the master node of our EMR cluster, since the cluster will be connected to the S3 bucket.\n",
    "\n",
    "To make scripts available in S3, we clone this repo in our Cloud9 environment and sync the relevant directory to S3. Note that before cloning into the repo we must generate an SSH key in the Cloud9 shell using the command `ssh-keygen -t rsa` and upload the SSH public key into Github."
   ]
  },
  {
   "cell_type": "raw",
   "metadata": {},
   "source": [
    "git clone git@github.com:kevgar/journey.git\n",
    "aws s3 sync ~/journey/hive-emr-setup s3://kjgardner74-hive/scripts"
   ]
  },
  {
   "cell_type": "markdown",
   "metadata": {},
   "source": [
    "### (4) Launch an EMR Cluster\n",
    "\n",
    "For a database solution we use Hive running on an EMR cluster. A suitable cluster can be created from your AWS account by clicking on **Services** > **EMR** > **Create Cluster**, then selecting the default configurations.\n",
    "\n",
    "Note we must specify (1) an S3 bucket to link to the cluster and (2) an EC2 key pair for accessing accessing the cluster via SSH. After creating the cluster we can click on **AWS CLI Export** to generate a reusable aws command."
   ]
  },
  {
   "cell_type": "raw",
   "metadata": {},
   "source": [
    "aws emr create-cluster --auto-scaling-role EMR_AutoScaling_DefaultRole --termination-protected --applications Name=Hadoop Naaws emr create-cluster --applications Name=Hadoop Name=Hive Name=Pig Name=Hue Name=Spark --ec2-attributes '{\"KeyName\":\"ec2-journey\",\"InstanceProfile\":\"EMR_EC2_DefaultRole\",\"SubnetId\":\"subnet-eaebacc7\",\"EmrManagedSlaveSecurityGroup\":\"sg-3e3cba41\",\"EmrManagedMasterSecurityGroup\":\"sg-eb3bbd94\"}' --service-role EMR_DefaultRole --enable-debugging --release-label emr-5.30.1 --log-uri 's3n://kjgardner74-hive/' --name 'emr-journey' --instance-groups '[{\"InstanceCount\":1,\"InstanceGroupType\":\"MASTER\",\"InstanceType\":\"m3.xlarge\",\"Name\":\"Master Instance Group\"}]' --configurations '[{\"Classification\":\"spark\",\"Properties\":{}}]' --scale-down-behavior TERMINATE_AT_TASK_COMPLETION --region us-east-1"
   ]
  },
  {
   "cell_type": "markdown",
   "metadata": {},
   "source": [
    "### (5) Ssh into the master node\n",
    "\n",
    "Next we login to the master node of the EMR cluster by importing the EC2 key pair .pem file into our Cloud9 environment (by clicking **File** > **Upload Local Files** in the IDE) then running the following command"
   ]
  },
  {
   "cell_type": "raw",
   "metadata": {},
   "source": [
    "aws emr ssh --cluster-id j-1CZ51HG5J04RV --key-pair-file ~/ec2-journey.pem"
   ]
  },
  {
   "cell_type": "markdown",
   "metadata": {},
   "source": [
    "### (6) Copy the data from S3 and unzip\n",
    "\n",
    "Once logged in to the master node we copy and unzip the data from the S3 bucket."
   ]
  },
  {
   "cell_type": "raw",
   "metadata": {},
   "source": [
    "aws s3 cp s3://kjgardner74-hive/journey/408408-782411-bundle-archive.zip 408408-782411-bundle-archive.zip\n",
    "unzip 408408-782411-bundle-archive.zip\n",
    "mv 408408-782411-bundle-archive journey"
   ]
  },
  {
   "cell_type": "markdown",
   "metadata": {},
   "source": [
    "### (7) Clean up the home directory"
   ]
  },
  {
   "cell_type": "raw",
   "metadata": {},
   "source": [
    "rm -rf 408408-782411-bundle-archive.zip\n",
    "rm -rf __MACOSX/"
   ]
  },
  {
   "cell_type": "markdown",
   "metadata": {},
   "source": [
    "### (8) For each desired table, create an HDFS and directory and copy data into it"
   ]
  },
  {
   "cell_type": "raw",
   "metadata": {},
   "source": [
    "hdfs dfs -mkdir journey\n",
    "hdfs dfs -mkdir journey/transaction\n",
    "hdfs dfs -copyFromLocal journey/transaction_data.csv journey/transaction\n",
    "hdfs dfs -mkdir journey/product\n",
    "hdfs dfs -copyFromLocal journey/product.csv journey/product\n",
    "hdfs dfs -mkdir journey/hh_demographic\n",
    "hdfs dfs -copyFromLocal journey/hh_demographic.csv journey/hh_demographic\n",
    "hdfs dfs -mkdir journey/causal\n",
    "hdfs dfs -copyFromLocal journey/causal_data.csv journey/causal\n",
    "hdfs dfs -mkdir journey/coupon\n",
    "hdfs dfs -copyFromLocal journey/coupon.csv journey/coupon\n",
    "hdfs dfs -mkdir journey/coupon_redempt\n",
    "hdfs dfs -copyFromLocal journey/coupon_redempt.csv journey/coupon_redempt\n",
    "hdfs dfs -mkdir journey/campaign\n",
    "hdfs dfs -copyFromLocal journey/campaign_table.csv journey/campaign\n",
    "hdfs dfs -mkdir journey/campaign_desc\n",
    "hdfs dfs -copyFromLocal journey/campaign_desc.csv journey/campaign_desc"
   ]
  },
  {
   "cell_type": "markdown",
   "metadata": {},
   "source": [
    "### (9) Create Hive tables and load data\n",
    "\n",
    "Next we create a Hive database then for each table create a schema and load data from the relevant csv file. For this step we can either copy the script `create_hive_tables.hql` from S3 and execute it in batch mode or run the relevant SQL commands interactively. Both options are shown bellow."
   ]
  },
  {
   "cell_type": "raw",
   "metadata": {},
   "source": [
    "aws s3 cp s3://kjgardner74-hive/scripts/create_hive_tables.hql create_hive_tables.hql\n",
    "hive -hiveconf DATA_DIR=/home/journey/ -f create_hive_tables.hql"
   ]
  },
  {
   "cell_type": "raw",
   "metadata": {},
   "source": [
    "-- File: create_hive_tables.hql\n",
    "\n",
    "Create database journey;\n",
    "\n",
    "Use journey;\n",
    "\n",
    "/* --------------------\n",
    "load hh_demographic.csv\n",
    "-------------------- */\n",
    "\n",
    "CREATE TABLE hh_demographic\n",
    "(AGE_DESC VARCHAR(45),\n",
    "MARITAL_STATUS_CODE VARCHAR(10),\n",
    "INCOME_DESC VARCHAR(15),\n",
    "HOMEOWNER_DESC VARCHAR(45),\n",
    "HH_COMP_DESC VARCHAR(45),\n",
    "HOUSEHOLD_SIZE_DESC VARCHAR(20),\n",
    "KID_CATEGORY_DESC VARCHAR(5),\n",
    "HOUSEHOLD_KEY BIGINT)\n",
    "COMMENT 'Household Demographics in Journey'\n",
    "ROW FORMAT DELIMITED\n",
    "FIELDS TERMINATED BY ','\n",
    "LINES TERMINATED BY '\\n'\n",
    "tblproperties (\"skip.header.line.count\"=\"1\");\n",
    "\n",
    "LOAD DATA LOCAL INPATH 'journey/hh_demographic.csv' OVERWRITE INTO TABLE hh_demographic;\n",
    "\n",
    "/* --------------------\n",
    "load transaction_data.csv\n",
    "-------------------- */\n",
    "\n",
    "CREATE TABLE transaction\n",
    "(HOUSEHOLD_KEY INT,\n",
    "BASKET_ID BIGINT,\n",
    "DAY INT,\n",
    "PRODUCT_ID BIGINT,\n",
    "QUANTITY INT,\n",
    "SALES_VALUE DECIMAL(10,2),\n",
    "STORE_ID INT,\n",
    "RETAIL_DISC DECIMAL(5,2),\n",
    "TRANS_TIME INT,\n",
    "WEEK_NO INT,\n",
    "COUPON_DISC DECIMAL(6,2),\n",
    "COUPON_MATCH_DISC DECIMAL(6,2))\n",
    "COMMENT 'transactions in Journey'\n",
    "ROW FORMAT DELIMITED\n",
    "FIELDS TERMINATED BY ','\n",
    "LINES TERMINATED BY '\\n'\n",
    "tblproperties (\"skip.header.line.count\"=\"1\");\n",
    "\n",
    "LOAD DATA LOCAL INPATH 'journey/transaction_data.csv' OVERWRITE INTO TABLE transaction;\n",
    "\n",
    "/* --------------------\n",
    "load campaign_desc.csv\n",
    "-------------------- */\n",
    "\n",
    "CREATE TABLE campaign_desc\n",
    "(DESCRIPTION VARCHAR(15),\n",
    "CAMPAIGN INT,\n",
    "START_DAY INT,\n",
    "END_DAY INT)\n",
    "ROW FORMAT DELIMITED\n",
    "FIELDS TERMINATED BY ','\n",
    "LINES TERMINATED BY '\\n'\n",
    "tblproperties (\"skip.header.line.count\"=\"1\");\n",
    "\n",
    "LOAD DATA LOCAL INPATH 'journey/campaign_desc.csv' OVERWRITE INTO TABLE campaign_desc;\n",
    "\n",
    "/* --------------------\n",
    "load causal_data.csv\n",
    "-------------------- */\n",
    "\n",
    "CREATE TABLE causal\n",
    "(PRODUCT_ID BIGINT,\n",
    "STORE_ID INT,\n",
    "WEEK_NO INT,\n",
    "DISPLAY VARCHAR(5),\n",
    "MAILER VARCHAR(5))\n",
    "ROW FORMAT DELIMITED\n",
    "FIELDS TERMINATED BY ','\n",
    "LINES TERMINATED BY '\\n'\n",
    "tblproperties (\"skip.header.line.count\"=\"1\");\n",
    "\n",
    "LOAD DATA LOCAL INPATH 'journey/causal_data.csv' OVERWRITE INTO TABLE causal;\n",
    "\n",
    "/* --------------------\n",
    "load coupon_redempt.csv\n",
    "-------------------- */\n",
    "\n",
    "CREATE TABLE coupon_redempt\n",
    "(HOUSEHOLD_KEY BIGINT,\n",
    "DAY INT,\n",
    "COUPON_UPC BIGINT,\n",
    "CAMPAIGN INT)\n",
    "ROW FORMAT DELIMITED\n",
    "FIELDS TERMINATED BY ','\n",
    "LINES TERMINATED BY '\\n'\n",
    "tblproperties (\"skip.header.line.count\"=\"1\");\n",
    "\n",
    "LOAD DATA LOCAL INPATH 'journey/coupon_redempt.csv' OVERWRITE INTO TABLE coupon_redempt;\n",
    "\n",
    "/* --------------------\n",
    "load product.csv\n",
    "-------------------- */\n",
    "\n",
    "CREATE TABLE product\n",
    "(PRODUCT_ID INT,\n",
    "MANUFACTURER INT,\n",
    "DEPARTMENT STRING,\n",
    "BRAND STRING,\n",
    "COMMODITY_DESC STRING,\n",
    "SUB_COMMODITY_DESC STRING,\n",
    "CURR_SIZE_OF_PRODUCT STRING)\n",
    "COMMENT 'journey product list cleaned'\n",
    "ROW FORMAT DELIMITED\n",
    "FIELDS TERMINATED BY ','\n",
    "LINES TERMINATED BY '\\n'\n",
    "tblproperties (\"skip.header.line.count\"=\"1\");\n",
    "\n",
    "LOAD DATA LOCAL INPATH 'journey/product.csv' OVERWRITE INTO TABLE product;\n",
    "\n",
    "/* --------------------\n",
    "load campaign_table.csv\n",
    "-------------------- */\n",
    "\n",
    "CREATE TABLE campaign\n",
    "(DESCRIPTION VARCHAR(15),\n",
    "HOUSEHOLD_KEY BIGINT,\n",
    "CAMPAIGN INT)\n",
    "ROW FORMAT DELIMITED\n",
    "FIELDS TERMINATED BY ','\n",
    "LINES TERMINATED BY '\\n'\n",
    "tblproperties (\"skip.header.line.count\"=\"1\");\n",
    "\n",
    "LOAD DATA LOCAL INPATH 'journey/campaign_table.csv' OVERWRITE INTO TABLE campaign;\n",
    "\n",
    "/* --------------------\n",
    "load coupon.csv\n",
    "-------------------- */\n",
    "\n",
    "CREATE TABLE coupon\n",
    "(COUPON_UPC BIGINT,\n",
    "PRODUCT_ID INT,\n",
    "CAMPAIGN INT)\n",
    "ROW FORMAT DELIMITED\n",
    "FIELDS TERMINATED BY ','\n",
    "LINES TERMINATED BY '\\n'\n",
    "tblproperties (\"skip.header.line.count\"=\"1\");\n",
    "\n",
    "LOAD DATA LOCAL INPATH 'journey/coupon.csv' OVERWRITE INTO TABLE coupon;"
   ]
  },
  {
   "cell_type": "markdown",
   "metadata": {},
   "source": [
    "### (10) Clean up\n",
    "\n",
    "Finally, we delete our S3 bucket contents and Terminate the EMR cluster as follows."
   ]
  },
  {
   "cell_type": "markdown",
   "metadata": {},
   "source": [
    "Delete data from S3 bucket."
   ]
  },
  {
   "cell_type": "raw",
   "metadata": {},
   "source": [
    "aws s3 rm s3://kjgardner74-hive --recursive"
   ]
  },
  {
   "cell_type": "markdown",
   "metadata": {},
   "source": [
    "Terminate EMR Cluster."
   ]
  },
  {
   "cell_type": "raw",
   "metadata": {},
   "source": [
    "aws emr modify-cluster-attributes --cluster-id j-1CZ51HG5J04RV --no-termination-protected\n",
    "aws emr terminate-clusters --cluster-ids j-1CZ51HG5J04RV"
   ]
  }
 ],
 "metadata": {
  "kernelspec": {
   "display_name": "Python 2",
   "language": "python",
   "name": "python2"
  },
  "language_info": {
   "codemirror_mode": {
    "name": "ipython",
    "version": 2
   },
   "file_extension": ".py",
   "mimetype": "text/x-python",
   "name": "python",
   "nbconvert_exporter": "python",
   "pygments_lexer": "ipython2",
   "version": "2.7.12"
  }
 },
 "nbformat": 4,
 "nbformat_minor": 0
}
